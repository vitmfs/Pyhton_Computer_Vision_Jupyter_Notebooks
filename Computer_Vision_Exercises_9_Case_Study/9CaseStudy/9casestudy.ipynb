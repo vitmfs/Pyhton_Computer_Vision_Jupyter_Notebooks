{
 "cells": [
  {
   "cell_type": "markdown",
   "metadata": {},
   "source": [
    "## Case Study\n",
    "# Quantifying fluorescent intensity images\n",
    "\n",
    "We will work at some images of Bacillus subtilis, a gram-positive bacterium famous for its ability to enter a form of 'suspended animation' known as sporulation when environmental conditions get rough. In these images, all cells have been engineered to express Cyan Fluorescent Protein (CFP) once they enter a particular genetic state known as comptency.\n",
    "\n",
    "These cells have been imaged under phase contrast and epifluorescence microscopy. These images were acquired by Caltech graduate student (and 2016 bootcamp TA) Griffin Chure.\n",
    "\n",
    "Many of your image processing functions should come from scipy.ndimage and/or scikit-image.\n",
    "\n",
    "Let's import the packages"
   ]
  },
  {
   "cell_type": "code",
   "execution_count": null,
   "metadata": {
    "collapsed": true
   },
   "outputs": [],
   "source": [
    "import numpy as np\n",
    "\n",
    "# Our image processing tools\n",
    "import skimage.filters\n",
    "import skimage.io\n",
    "import skimage.morphology\n",
    "import skimage.exposure\n",
    "import skimage.segmentation\n",
    "\n",
    "import matplotlib.pyplot as plt\n",
    "%matplotlib inline\n",
    "%config InlineBackend.figure_formats = {'png', 'retina'}\n"
   ]
  },
  {
   "cell_type": "markdown",
   "metadata": {},
   "source": [
    "Let's start by just getting a look at the images to see what we're dealing with here. A collection of images can be found in imgs/data which will be used for this lesson and the following practice section. The specific images we will be looking at here will be noLac_phase_0000.tif and noLac_FITC_0000.tif."
   ]
  },
  {
   "cell_type": "code",
   "execution_count": null,
   "metadata": {},
   "outputs": [],
   "source": [
    "# Load the images\n",
    "im_phase = skimage.io.imread('imgs/data/noLac_phase_0004.tif')\n",
    "im_fl = skimage.io.imread('imgs/data/noLac_FITC_0004.tif')\n",
    "\n",
    "# Display side-by-side\n",
    "plt.subplot(1,2,1)\n",
    "plt.imshow(im_phase,cmap=plt.cm.viridis)\n",
    "plt.subplot(1,2,2)\n",
    "plt.imshow(im_fl,cmap=plt.cm.viridis)\n",
    "plt.show()"
   ]
  },
  {
   "cell_type": "markdown",
   "metadata": {},
   "source": [
    "What we see:\n",
    "\n",
    "1. that the illumination in the phase contrast image is not uniform and is darker at the top than on the bottom. \n",
    "2. a couple rogue pixels are ruining viewing the fluorescent image. \n",
    "\n",
    "So let's do a median filter on it to clean."
   ]
  },
  {
   "cell_type": "code",
   "execution_count": null,
   "metadata": {},
   "outputs": [],
   "source": [
    "# Structuring element\n",
    "selem = skimage.morphology.square(3)\n",
    "\n",
    "# Perform median filter\n",
    "im_phase_filt = skimage.filters.median(im_phase, selem)\n",
    "im_fl_filt = skimage.filters.median(im_fl, selem)\n",
    "\n",
    "plt.subplot(1,2,1)\n",
    "plt.imshow(im_phase_filt,cmap=plt.cm.viridis)\n",
    "plt.subplot(1,2,2)\n",
    "plt.imshow(im_fl_filt,cmap=plt.cm.viridis)\n",
    "plt.show()"
   ]
  },
  {
   "cell_type": "markdown",
   "metadata": {},
   "source": [
    "Let's now correct our illumination issues in the phase contrast image. \n",
    "We can correct for this non-uniform illumination by performing a Gaussian background subtraction. "
   ]
  },
  {
   "cell_type": "code",
   "execution_count": null,
   "metadata": {},
   "outputs": [],
   "source": [
    "# Apply a gaussian blur with a 50 pixel radius. \n",
    "im_phase_gauss = skimage.filters.gaussian(im_phase_filt, 50.0)\n",
    "\n",
    "# Convert the median-filtered phase image to a float64\n",
    "im_phase_float = skimage.img_as_float(im_phase_filt)\n",
    "\n",
    "# Subtract our gaussian blurred image from the original.\n",
    "im_phase_sub = im_phase_float - im_phase_gauss\n",
    "\n",
    "plt.subplot(1,2,1)\n",
    "plt.imshow(im_phase_filt,cmap=plt.cm.viridis)\n",
    "plt.subplot(1,2,2)\n",
    "plt.imshow(im_phase_sub,cmap=plt.cm.viridis)\n",
    "plt.show()"
   ]
  },
  {
   "cell_type": "markdown",
   "metadata": {},
   "source": [
    "Inspecting the images...."
   ]
  },
  {
   "cell_type": "code",
   "execution_count": null,
   "metadata": {},
   "outputs": [],
   "source": [
    "# Indices of subimage\n",
    "slc = np.s_[0:450, 50:500]\n",
    "plt.imshow(im_phase_sub[slc], cmap=plt.cm.gray)\n",
    "plt.show()"
   ]
  },
  {
   "cell_type": "markdown",
   "metadata": {},
   "source": [
    "The image is littered with small dots. These are the result of condensation of water vapor on the glass in front of the CCD of the camera. Let's denoise the image using the total variation filter.  "
   ]
  },
  {
   "cell_type": "code",
   "execution_count": null,
   "metadata": {},
   "outputs": [],
   "source": [
    "# Denoising the image\n",
    "im_phase_tv = skimage.restoration.denoise_tv_chambolle(im_phase_sub, weight=0.005)\n",
    "slc = np.s_[0:450, 50:500]\n",
    "plt.imshow(im_phase_tv[slc], cmap=plt.cm.gray)\n",
    "plt.show()"
   ]
  },
  {
   "cell_type": "markdown",
   "metadata": {},
   "source": [
    "Assuming we have taken care of any illumination issues let's apply a global thresholding method on the phase images to separate bacteria from background."
   ]
  },
  {
   "cell_type": "code",
   "execution_count": null,
   "metadata": {},
   "outputs": [],
   "source": [
    "# Compute Otsu threshold value for median filtered image\n",
    "thresh_otsu = skimage.filters.threshold_otsu(im_phase_tv)\n",
    "\n",
    "# Construct thresholded image\n",
    "im_bw = im_phase_tv < thresh_otsu\n",
    "\n",
    "plt.subplot(1,2,1)\n",
    "plt.imshow(im_phase_tv,cmap=plt.cm.viridis)\n",
    "plt.subplot(1,2,2)\n",
    "plt.imshow(im_bw,cmap=plt.cm.viridis)\n",
    "plt.show()"
   ]
  },
  {
   "cell_type": "markdown",
   "metadata": {},
   "source": [
    "Since we will be quantifying fluorescent intensity in individual bacteria, we want to make sure only whole bacteria are considered. Therefore, we should clear off any bacteria that are touching the border of the image, connected regions, remove small objects and then count. "
   ]
  },
  {
   "cell_type": "code",
   "execution_count": null,
   "metadata": {},
   "outputs": [],
   "source": [
    "# Clear border with 5 pixel buffer\n",
    "im_bw = skimage.segmentation.clear_border(im_bw, buffer_size=5)\n",
    "\n",
    "# Label binary image; background kwarg says value in im_bw to be background\n",
    "im_labeled, n_labels = skimage.measure.label(im_bw, background=0, return_num=True)\n",
    "\n",
    "# Extract region props\n",
    "im_props = skimage.measure.regionprops(im_labeled, intensity_image=im_fl_filt)\n",
    "\n",
    "# Make a filtered black and white image\n",
    "im_bw_filt = im_labeled > 0\n",
    "\n",
    "# Define cutoff size\n",
    "cutoff = 150\n",
    "\n",
    "# Loop through image properties and delete small objects\n",
    "n_regions = 0\n",
    "for prop in im_props:\n",
    "    if prop.area < cutoff:\n",
    "        im_bw_filt[im_labeled==prop.label] = 0\n",
    "    else:\n",
    "        n_regions += 1\n",
    "\n",
    "plt.imshow(im_bw_filt, cmap=plt.cm.rainbow)\n",
    "plt.show()\n",
    "\n",
    "# Show number of regions\n",
    "print('Number of individual regions = ', n_regions)"
   ]
  },
  {
   "cell_type": "markdown",
   "metadata": {},
   "source": [
    "# Exercise\n",
    "\n",
    "Create your own segmentation function to segment any phase contrast image of bacteria and count the number os cells. Try to implement: \n",
    "\n",
    "1. Correct for hot or bad pixels in an image.\n",
    "2. Correct for uneven illumination.\n",
    "3. Perform a thresholding operation.\n",
    "4. Remove bacteria or objects near/touching the image border.\n",
    "5. Remove objects that are too large (or too small) to be bacteria. \n",
    "6. Remove improperly segmented cells.\n",
    "7. Return a labeled segmentation mask.\n",
    "8. Count the number of objects. "
   ]
  },
  {
   "cell_type": "code",
   "execution_count": null,
   "metadata": {
    "collapsed": true
   },
   "outputs": [],
   "source": [
    "def mysegmentation(im, image_mode='phase'):\n",
    "\n",
    "    # Apply a median filter to remove hot pixels.\n",
    "\n",
    "   \n",
    "    # Perform gaussian subtraction\n",
    "    im_sub = bg_subtract(im_filt)\n",
    "    \n",
    "    # Determine the thresholding method.\n",
    "\n",
    "\n",
    "    # Determine the image mode and apply threshold.\n",
    "\n",
    "       \n",
    "    # Label the objects.\n",
    "\n",
    "\n",
    "    # Apply the area and eccentricity bounds. \n",
    "    im_filt = area_ecc_filter(im_label)\n",
    "    \n",
    "    # Remove objects touching the border.\n",
    "\n",
    "    \n",
    "    # Relabel the image.\n",
    "\n",
    "        \n",
    "    return im_label\n",
    "\n",
    "def bg_subtract(im):\n",
    "    \n",
    "    # Apply the gaussian filter.\n",
    "    \n",
    "    # Ensure the original image is a float\n",
    "    \n",
    "    # Subtract\n",
    "\n",
    "    \n",
    "    return  im_sub\n",
    "\n",
    "\n",
    "def area_ecc_filter(im):\n",
    "    \n",
    "    # Extract the region props of the objects. \n",
    "\n",
    "    # Extract the areas and labels.\n",
    "\n",
    "    # Make an empty image to add the approved cells.\n",
    "\n",
    "    \n",
    "    # Threshold the objects based on area and eccentricity\n",
    "    area_bounds=(0,1e7)\n",
    "    ecc_bounds=(0, 1)\n",
    "    \n",
    "    # Relabel the image.\n",
    "\n",
    "    return im_filt\n",
    "\n",
    "def count_cells(seg):\n",
    "    # Extract region props\n",
    " \n",
    "\n",
    "    # Make a filtered black and white image\n",
    "\n",
    "\n",
    "    # Define cutoff size\n",
    "\n",
    "\n",
    "    # Loop through image properties and delete small objects\n",
    "            \n",
    "    return n_regions"
   ]
  },
  {
   "cell_type": "code",
   "execution_count": null,
   "metadata": {},
   "outputs": [],
   "source": [
    "ip_dist = 0.0636  # in units of µm per pixel.\n",
    "area_bounds = (1/ip_dist**2, 10.0/ip_dist**2)\n",
    "ecc_bounds = (0.8, 1.0)  # they are certainly not spheres. \n",
    "\n",
    "ecoli = skimage.io.imread('imgs/data/noLac_phase_0004.tif')\n",
    "bsub_phase = skimage.io.imread('imgs/bsub_100x_phase.tif')\n",
    "bsub_fluo = skimage.io.imread('imgs/bsub_100x_cfp.tif')\n",
    "\n",
    "# Pass all images through our function.\n",
    "ecoli_seg = mysegmentation(ecoli, image_mode='phase')\n",
    "bsub_phase_seg = mysegmentation(bsub_phase, image_mode='phase')\n",
    "bsub_fluo_seg = mysegmentation(bsub_fluo, image_mode='fluorescence')"
   ]
  },
  {
   "cell_type": "code",
   "execution_count": null,
   "metadata": {},
   "outputs": [],
   "source": [
    "# Show number of regions\n",
    "n_regions = count_cells(ecoli_seg)\n",
    "print('Number of individual regions = ', n_regions)\n",
    "\n",
    "n_regions = count_cells(bsub_phase_seg)\n",
    "print('Number of individual regions = ', n_regions)\n",
    "\n",
    "n_regions = count_cells(bsub_fluo_seg)\n",
    "print('Number of individual regions = ', n_regions)"
   ]
  },
  {
   "cell_type": "code",
   "execution_count": null,
   "metadata": {
    "collapsed": true
   },
   "outputs": [],
   "source": []
  }
 ],
 "metadata": {
  "anaconda-cloud": {},
  "kernelspec": {
   "display_name": "Python [default]",
   "language": "python",
   "name": "python3"
  },
  "language_info": {
   "codemirror_mode": {
    "name": "ipython",
    "version": 3
   },
   "file_extension": ".py",
   "mimetype": "text/x-python",
   "name": "python",
   "nbconvert_exporter": "python",
   "pygments_lexer": "ipython3",
   "version": "3.6.2"
  }
 },
 "nbformat": 4,
 "nbformat_minor": 1
}

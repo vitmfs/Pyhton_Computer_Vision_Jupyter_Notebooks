{
 "cells": [
  {
   "cell_type": "code",
   "execution_count": null,
   "metadata": {
    "collapsed": true
   },
   "outputs": [],
   "source": [
    "import warnings\n",
    "warnings.filterwarnings(\"ignore\")\n",
    "\n",
    "import matplotlib.pyplot as plt\n",
    "%matplotlib inline\n",
    "\n",
    "import numpy as np\n",
    "from scipy.misc import imread\n",
    "from scipy import ndimage\n",
    "\n",
    "from skimage import filters\n",
    "from skimage import data\n",
    "from skimage import exposure"
   ]
  },
  {
   "cell_type": "code",
   "execution_count": null,
   "metadata": {
    "scrolled": true
   },
   "outputs": [],
   "source": [
    "# The first method of thresholding that we will explore involves visually analyzing the\n",
    "# histogram of an image to determine the appropriate value of T (the threshold value). Load and display the coins image.\n",
    "\n",
    "# Display a histogram plot of the coins image to determine what threshold level to use.\n",
    "# Which peak of the histogram represents the background pixels and which peak represents the pixels associated with the coins?\n",
    "# Set the threshold value to 85 and generate the new image.\n",
    "\n",
    "# You may have noticed that several pixels -- some white pixels in the background -- do not belong in the resulting image.\n",
    "# This small amount of noise can be cleaned up using the noise removal techniques. Write one or more lines of code to remove \n",
    "# the noise pixels in the thresholded image.\n",
    "   \n",
    "# Perform an automatic thresholding approach to the original image. \n",
    "        \n",
    "# 1\n",
    "\n",
    "\n",
    "# 2\n",
    "\n",
    "\n",
    "# 3 \n",
    "\n",
    "# 4\n",
    "\n"
   ]
  },
  {
   "cell_type": "code",
   "execution_count": null,
   "metadata": {},
   "outputs": [],
   "source": [
    "# Bimodal images are fairly easy to separate using basic thresholding techniques discussed thus far. Some images, however, \n",
    "# are not as well behaved and require a more advanced thresholding technique such as adaptive thresholding.\n",
    "\n",
    "# Let us see what happens when we attempt to threshold the image gradient_with_text using the techniques we have learned so \n",
    "# far. Globally threshold the image.\n",
    "\n",
    "# we cannot pick one particular value to set as the threshold value because the image is clearly not bimodal. \n",
    "# See the histogram! Apply an adaptive thresholding and see the result. \n",
    "\n",
    "# 1\n",
    "\n",
    "\n",
    "# 2\n",
    "\n",
    "\n",
    "# 3\n"
   ]
  },
  {
   "cell_type": "code",
   "execution_count": null,
   "metadata": {
    "collapsed": true
   },
   "outputs": [],
   "source": []
  }
 ],
 "metadata": {
  "kernelspec": {
   "display_name": "Python 3",
   "language": "python",
   "name": "python3"
  },
  "language_info": {
   "codemirror_mode": {
    "name": "ipython",
    "version": 3
   },
   "file_extension": ".py",
   "mimetype": "text/x-python",
   "name": "python",
   "nbconvert_exporter": "python",
   "pygments_lexer": "ipython3",
   "version": "3.7.1"
  }
 },
 "nbformat": 4,
 "nbformat_minor": 2
}

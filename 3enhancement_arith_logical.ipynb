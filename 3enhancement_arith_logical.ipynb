{
 "cells": [
  {
   "cell_type": "markdown",
   "metadata": {},
   "source": [
    "# Arithmetic and Logical Operations"
   ]
  },
  {
   "cell_type": "code",
   "execution_count": null,
   "metadata": {
    "collapsed": true
   },
   "outputs": [],
   "source": [
    "import warnings\n",
    "warnings.filterwarnings(\"ignore\")\n",
    "\n",
    "import matplotlib.pyplot as plt\n",
    "%matplotlib inline\n",
    "\n",
    "import numpy as np\n",
    "from scipy.misc import imread, imsave\n",
    "\n",
    "from skimage import img_as_float, img_as_ubyte\n"
   ]
  },
  {
   "cell_type": "code",
   "execution_count": null,
   "metadata": {},
   "outputs": [],
   "source": [
    "# Image addition can be used to brighten (or darken) an image by adding (subtracting) a constant value to (from) each pixel \n",
    "# value. It can also be used to blend two images into one. \n",
    "# 1. Add the constant value 20 to the image earth1.tif and plot the result with a gray color map before and after. \n",
    "# 2. What are the maximum and minimum values of the original and the adjusted image?\n",
    "# 3. Now add to the original image the constant value of 100 and plot the result. What are the maximum and minimum values? \n",
    "#    Why?\n",
    "\n",
    "\n",
    "\n"
   ]
  },
  {
   "cell_type": "code",
   "execution_count": null,
   "metadata": {},
   "outputs": [],
   "source": [
    "# Blend the images cameraman.png with gradient.tif and plot the result (see the differences):\n",
    "# 1. by simple adding \n",
    "# 2. by applying an alpha value to the images\n",
    "\n"
   ]
  },
  {
   "cell_type": "code",
   "execution_count": null,
   "metadata": {},
   "outputs": [],
   "source": [
    "# Image subtraction is very useful for several tasks: determine whether two images are the same, to remove background, \n",
    "# find boundaries, ... \n",
    "\n",
    "#Load two images and display them\n",
    "img1 = imread('imgs\\cameraman.tif')\n",
    "img2 = imread('imgs\\cameraman2.tif')\n",
    "\n",
    "\n",
    "\n",
    "# While it may not be obvious at first how the altered image differs from the original image, we should\n",
    "# be able to see where the difference is located after using the subtraction function. \n",
    "# Subtract both images and save the result image. Using this image look at the original ones and see the difference. \n",
    "\n"
   ]
  },
  {
   "cell_type": "code",
   "execution_count": null,
   "metadata": {},
   "outputs": [],
   "source": [
    "# Multiplication is the process of multiplying the values of each pixel of same coordinates in two images. \n",
    "# This can be used for a brightening process known as dynamic scaling, which results in a more naturally brighter image \n",
    "# compared to directly adding a constant to each pixel.\n",
    "# Use multiplication to dynamically scale the moon image and use add to compare results (add for instance 50).\n",
    "\n",
    "\n"
   ]
  },
  {
   "cell_type": "code",
   "execution_count": null,
   "metadata": {},
   "outputs": [],
   "source": [
    "# Image multiplication can also be used for special effects such as an artifcial 3D look. By multiplying\n",
    "# a flat image with a gradient, we create the illusion of a 3D textured surface. \n",
    "# Create an artificial 3D planet using the earth1 and earth2 images\n",
    "\n"
   ]
  },
  {
   "cell_type": "code",
   "execution_count": null,
   "metadata": {
    "scrolled": true
   },
   "outputs": [],
   "source": [
    "# Image division can be used as the inverse operation to dynamic scaling. \n",
    "# 1. Use image division to dynamically darken the moon image.\n",
    "# 2. Display the equivalent darker image using image multiplication.\n",
    "\n",
    "\n"
   ]
  },
  {
   "cell_type": "code",
   "execution_count": null,
   "metadata": {},
   "outputs": [],
   "source": [
    "# Another use of the image division process is to extract the background from an image. This is usually\n",
    "# done during a preprocessing stage of a larger, more complex operation. \n",
    "# Load the images gradient_without_text.tif and gradient_with_text.tif that will be used for background subtraction.\n",
    "# Divide the two images and display the result. \n"
   ]
  },
  {
   "cell_type": "code",
   "execution_count": null,
   "metadata": {},
   "outputs": [],
   "source": [
    "# Logic operators are often combined to achieve a particular task.\n",
    "# The XOR operation is commonly used for finding differences between two images.\n",
    "# Load the images cameraman and cameraman2 and compare with the result obtained with the substraction function\n",
    "\n"
   ]
  },
  {
   "cell_type": "code",
   "execution_count": null,
   "metadata": {},
   "outputs": [],
   "source": [
    "# 1. Dark the image lindsay.tif. \n",
    "# 2. Use logic operators to show the image lindsay.tif darker only within the region of interest (mask.png)\n",
    "\n",
    "# 1\n",
    "\n",
    "\n",
    "# 2 \n"
   ]
  },
  {
   "cell_type": "code",
   "execution_count": null,
   "metadata": {
    "collapsed": true
   },
   "outputs": [],
   "source": []
  }
 ],
 "metadata": {
  "kernelspec": {
   "display_name": "Python 3",
   "language": "python",
   "name": "python3"
  },
  "language_info": {
   "codemirror_mode": {
    "name": "ipython",
    "version": 3
   },
   "file_extension": ".py",
   "mimetype": "text/x-python",
   "name": "python",
   "nbconvert_exporter": "python",
   "pygments_lexer": "ipython3",
   "version": "3.7.1"
  }
 },
 "nbformat": 4,
 "nbformat_minor": 2
}

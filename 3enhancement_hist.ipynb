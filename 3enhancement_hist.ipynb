{
 "cells": [
  {
   "cell_type": "code",
   "execution_count": 1,
   "metadata": {},
   "outputs": [],
   "source": [
    "import warnings\n",
    "warnings.filterwarnings(\"ignore\")\n",
    "\n",
    "import matplotlib.pyplot as plt\n",
    "%matplotlib inline\n",
    "\n",
    "import numpy as np\n",
    "from scipy.misc import imread\n",
    "\n",
    "from skimage import data\n",
    "from skimage import exposure\n"
   ]
  },
  {
   "cell_type": "code",
   "execution_count": 2,
   "metadata": {},
   "outputs": [],
   "source": [
    "# Histogram Equalization\n",
    "# Spreads out the most frequent intensity values in an image. The equalized image has a roughly linear cumulative distribution function.\n",
    "# Load the data moon from skimage. Display her histogram and see that image has a low constrast. \n",
    "# Execute histogram equalization and display the final image and the new histogram\n",
    "\n",
    "#1\n"
   ]
  },
  {
   "cell_type": "code",
   "execution_count": 3,
   "metadata": {},
   "outputs": [],
   "source": [
    "# Histogram equalization has the advantage that it requires no parameters. \n",
    "# An alternative method is contrast stretching, where the image is rescaled to include all intensities that fall\n",
    "# within a range given by the user. \n",
    "\n",
    "\n",
    "# Load again the data moon from skimage. \n",
    "# Execute constrast streching rescaling the values to [78,129], display the final image and the new \n",
    "# histogram. Compare with the previous result. \n",
    "\n"
   ]
  },
  {
   "cell_type": "code",
   "execution_count": 4,
   "metadata": {},
   "outputs": [],
   "source": [
    "# Adaptive Equalization\n",
    "# An algorithm for local contrast enhancement, that uses histograms computed over different tile regions of the image. \n",
    "# Local details can therefore be enhanced even in regions that are darker or lighter than most of the image.\n",
    "# Use the function equalize_adapthist(image,clip_limit=0.3) from exposure in the previous image. \n",
    "# Compute her histogram and final image. Compare the results. \n",
    "\n"
   ]
  },
  {
   "cell_type": "code",
   "execution_count": 5,
   "metadata": {},
   "outputs": [],
   "source": [
    "# Create your own histogram equalization function using numpy arrays\n",
    "\n",
    "\n"
   ]
  },
  {
   "cell_type": "code",
   "execution_count": null,
   "metadata": {},
   "outputs": [],
   "source": []
  },
  {
   "cell_type": "code",
   "execution_count": null,
   "metadata": {},
   "outputs": [],
   "source": []
  },
  {
   "cell_type": "code",
   "execution_count": null,
   "metadata": {},
   "outputs": [],
   "source": []
  }
 ],
 "metadata": {
  "kernelspec": {
   "display_name": "Python 3",
   "language": "python",
   "name": "python3"
  },
  "language_info": {
   "codemirror_mode": {
    "name": "ipython",
    "version": 3
   },
   "file_extension": ".py",
   "mimetype": "text/x-python",
   "name": "python",
   "nbconvert_exporter": "python",
   "pygments_lexer": "ipython3",
   "version": "3.7.1"
  }
 },
 "nbformat": 4,
 "nbformat_minor": 2
}

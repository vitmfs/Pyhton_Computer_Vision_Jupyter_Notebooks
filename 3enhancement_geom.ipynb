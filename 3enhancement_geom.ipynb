{
 "cells": [
  {
   "cell_type": "code",
   "execution_count": null,
   "metadata": {
    "collapsed": true
   },
   "outputs": [],
   "source": [
    "import warnings\n",
    "warnings.filterwarnings(\"ignore\")\n",
    "\n",
    "import matplotlib.pyplot as plt\n",
    "%matplotlib inline\n",
    "\n",
    "import numpy as np\n",
    "from scipy.misc import imread, imsave, imresize\n",
    "\n",
    "from skimage.transform import resize, rescale\n",
    "from skimage import img_as_ubyte\n"
   ]
  },
  {
   "cell_type": "code",
   "execution_count": null,
   "metadata": {},
   "outputs": [],
   "source": [
    "# Decrease the size of the cat.jpg image for half using two different functions. Save the result. Comment the differences \n",
    "# The output is different. Convert to uint8. \n"
   ]
  },
  {
   "cell_type": "code",
   "execution_count": null,
   "metadata": {},
   "outputs": [],
   "source": [
    "# Create a function to receive any image, the method for interpolation and the new size. \n",
    "# The function should output the new image. Test your method with an image and plot the result\n",
    "# Note that according to your resize function (skimage or scipy) the type of your input parameters can be different. \n"
   ]
  },
  {
   "cell_type": "code",
   "execution_count": null,
   "metadata": {},
   "outputs": [],
   "source": [
    "# Import the image coffee from skimage and rotate 45 degrees using the scipy module. Display the results.\n",
    "# Change the padding\n",
    "\n",
    "from skimage import data\n",
    "from scipy.ndimage import rotate \n",
    "\n",
    "img = data.coffee()\n",
    "\n"
   ]
  },
  {
   "cell_type": "code",
   "execution_count": null,
   "metadata": {},
   "outputs": [],
   "source": [
    "# Import the image coffee from skimage and rotate 45 degrees using the skimage module. Display the results. \n",
    "# Compare the outputs with the previous solution \n",
    "# Change the padding\n",
    "\n",
    "from skimage import data\n",
    "from skimage.transform import rotate \n",
    "\n",
    "\n",
    "\n"
   ]
  },
  {
   "cell_type": "code",
   "execution_count": null,
   "metadata": {},
   "outputs": [],
   "source": [
    "# Implement your own rotation method (45degrees) using bilinear interpolation\n",
    "\n",
    "from skimage.color import rgb2gray\n",
    "\n",
    "img = rgb2gray(data.coffee())\n",
    "nrows,ncols = img.shape\n"
   ]
  },
  {
   "cell_type": "code",
   "execution_count": null,
   "metadata": {
    "collapsed": true
   },
   "outputs": [],
   "source": []
  },
  {
   "cell_type": "code",
   "execution_count": null,
   "metadata": {
    "collapsed": true
   },
   "outputs": [],
   "source": []
  }
 ],
 "metadata": {
  "kernelspec": {
   "display_name": "Python 3",
   "language": "python",
   "name": "python3"
  },
  "language_info": {
   "codemirror_mode": {
    "name": "ipython",
    "version": 3
   },
   "file_extension": ".py",
   "mimetype": "text/x-python",
   "name": "python",
   "nbconvert_exporter": "python",
   "pygments_lexer": "ipython3",
   "version": "3.7.1"
  }
 },
 "nbformat": 4,
 "nbformat_minor": 2
}

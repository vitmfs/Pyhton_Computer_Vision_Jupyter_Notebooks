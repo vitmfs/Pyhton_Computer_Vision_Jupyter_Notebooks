{
 "cells": [
  {
   "cell_type": "code",
   "execution_count": null,
   "metadata": {
    "collapsed": true
   },
   "outputs": [],
   "source": [
    "import warnings\n",
    "warnings.filterwarnings(\"ignore\")\n",
    "\n",
    "import matplotlib.pyplot as plt\n",
    "%matplotlib inline\n",
    "\n",
    "import numpy as np\n",
    "from scipy.misc import imread\n",
    "from scipy import ndimage\n",
    "\n",
    "from skimage import data\n",
    "from skimage import filters\n",
    "from skimage import img_as_float, img_as_ubyte\n",
    "from skimage import exposure\n"
   ]
  },
  {
   "cell_type": "code",
   "execution_count": null,
   "metadata": {},
   "outputs": [],
   "source": [
    "# We shall start by exploring convolution and correlation in one dimension. This can be achieved by\n",
    "# means of the ndimage.convolve and ndimage.correlate functions. What are the default values for padding? (reflect)\n",
    "\n",
    "a = np.array([0,0,0,1,0,0,0]);\n",
    "f = np.array([1,2,3,4,5]);\n",
    "\n",
    "res = ndimage.convolve(a,f)  \n",
    "print(res)\n",
    "res = ndimage.correlate(a,f)\n",
    "print(res)\n"
   ]
  },
  {
   "cell_type": "code",
   "execution_count": null,
   "metadata": {},
   "outputs": [],
   "source": [
    "# Let us see how correlation works on a small window of size 3 x 3 and a matrix. The correlation of\n",
    "# two matrices is a sum of products. Numerically, the calculation would be as follows:\n",
    "\n",
    "# (140)x(-1) + (108)x(0) + (94)x(1) + (89)x(-2) + (99)x(0) + (125)x(2) + (121)x(-1) + (134)x(0) + (221)x(1) = 126\n",
    "\n",
    "# 1. Perform the correlation of the two matrices: x = [140,108,94;89,99,125;121,134,221] with y = [-1,0,1;-2,0,2;-1,0,1] and \n",
    "# see the result. Pad your image by a constant value of 0. Where is the position of 126 in the resulted correlation?\n",
    "# 2. Create your own function to calculate the correlation between an image and a mask.\n",
    "\n",
    "\n",
    "\n",
    "# 1\n",
    "\n",
    "\n",
    "# 2\n"
   ]
  },
  {
   "cell_type": "code",
   "execution_count": null,
   "metadata": {},
   "outputs": [],
   "source": [
    "# To perform convolution, we use the same technique as in correlation. The difference here is that the\n",
    "# filter matrix is rotated 180degrees before performing the sum of products. Numerically, the calculation would be as follows:\n",
    "\n",
    "# (140)x(1) + (108)x(0) + (94)x(-1) + (89)x(2) + (99)x(0) + (125)x(-2) + (121)x(1) + (134)x(0) + (221)x(-1) = -126\n",
    "\n",
    "# 1. Perform the convolution of the two matrices: x = [140,108,94;89,99,125;121,134,221] with y = [-1,0,1;-2,0,2;-1,0,1] and \n",
    "# see the result. Pad your image by a constant value of 0. \n",
    "# 2. Create your own function to calculate the convolution between an image and a mask.\n",
    "\n",
    "\n",
    "# 1\n",
    "\n",
    "\n",
    "\n",
    "# 2\n"
   ]
  },
  {
   "cell_type": "code",
   "execution_count": null,
   "metadata": {},
   "outputs": [],
   "source": [
    "# Load the cameraman.png image and prepare a subplot. Apply an average filter with a mask 11x11 to the image and see the result.\n",
    "# What was the effect of the averaging filter?\n",
    "\n",
    "\n",
    "# Create a nonuniform version of the mean filter. Use 11x11 size for the mask. \n",
    "\n",
    "\n"
   ]
  },
  {
   "cell_type": "code",
   "execution_count": null,
   "metadata": {},
   "outputs": [],
   "source": [
    "# The Gaussian filter is similar to the nonuniform averaging filter in that the coeficients are not\n",
    "# equivalent. The coefficient values, however, are not a function of their distance from the center\n",
    "# pixel, but instead are modeled from the Gaussian curve. Create a Gaussian mask and display\n",
    "# the kernel as a 3D plot. \n",
    "\n",
    "from mpl_toolkits import mplot3d\n",
    "\n",
    " \n",
    "\n"
   ]
  },
  {
   "cell_type": "code",
   "execution_count": null,
   "metadata": {},
   "outputs": [],
   "source": [
    "# Filter the cameraman.png image using a Gaussian filter and compare the results with the average mask.\n",
    "# Experiment different values of sigma\n",
    "\n"
   ]
  },
  {
   "cell_type": "code",
   "execution_count": null,
   "metadata": {
    "scrolled": true
   },
   "outputs": [],
   "source": [
    "# Create a laplacian mask and apply it to the moon.tif image. See the result. \n",
    "# What is the minimum value of the fltered image?\n",
    "# Verify that a uint8 filtered image would not reflect negative numbers. You can use the image that was previously loaded. \n",
    "# Create a sharpened image using the laplacian filtered image.\n",
    "\n",
    "# 1\n",
    "\n",
    "# 2\n",
    "\n",
    "\n",
    "\n",
    "# 3\n",
    "\n",
    "\n",
    "# 4\n",
    "\n",
    "\n",
    "\n"
   ]
  },
  {
   "cell_type": "code",
   "execution_count": null,
   "metadata": {},
   "outputs": [],
   "source": [
    "# Unsharp masking is a simple process of subtracting a blurred image from its original to generate a sharper image. \n",
    "# First perform an average filtering\n",
    "# Second subtract the previous image with the original \n",
    "# Third add the previous image with the original \n",
    "\n",
    "# Unsharp the moon image.\n",
    "\n",
    "# 1\n",
    "\n",
    "\n",
    "\n",
    "# 2\n",
    "\n",
    "\n",
    "# 3\n"
   ]
  },
  {
   "cell_type": "code",
   "execution_count": null,
   "metadata": {},
   "outputs": [],
   "source": [
    "# You can also unsharp an image by subtraction with a blurred image after adjusting the image intensity values. \n",
    "# Implement and see the result. Use the previous image. \n",
    "\n",
    "\n"
   ]
  },
  {
   "cell_type": "code",
   "execution_count": null,
   "metadata": {},
   "outputs": [],
   "source": [
    "# High-boost filtering is a sharpening technique that involves creating a sharpening image and adding\n",
    "# it to the original image. \n",
    "\n",
    "# Create a high-boost mask with [[0 -1 0][-1 A+4 -1][0 -1 0]] with A = 1 and apply it to the previous image moon.tif\n",
    "# What happens to the output image when A is less than 1? What about when A is greater than 1?\n",
    "# Show that a high-boost mask when A = 3 looks similar to the image simply multiplied by 3.\n",
    "\n",
    "\n",
    "# 1\n",
    "\n",
    "\n",
    "# 2\n",
    "\n",
    "\n",
    "# 3\n",
    "\n",
    "\n",
    "# 4\n"
   ]
  },
  {
   "cell_type": "code",
   "execution_count": null,
   "metadata": {
    "collapsed": true
   },
   "outputs": [],
   "source": []
  }
 ],
 "metadata": {
  "kernelspec": {
   "display_name": "Python 3",
   "language": "python",
   "name": "python3"
  },
  "language_info": {
   "codemirror_mode": {
    "name": "ipython",
    "version": 3
   },
   "file_extension": ".py",
   "mimetype": "text/x-python",
   "name": "python",
   "nbconvert_exporter": "python",
   "pygments_lexer": "ipython3",
   "version": "3.7.1"
  }
 },
 "nbformat": 4,
 "nbformat_minor": 2
}

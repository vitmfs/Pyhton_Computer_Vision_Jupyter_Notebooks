{
 "cells": [
  {
   "cell_type": "code",
   "execution_count": null,
   "metadata": {
    "collapsed": true
   },
   "outputs": [],
   "source": [
    "import warnings\n",
    "warnings.filterwarnings(\"ignore\")\n",
    "\n",
    "import matplotlib.pyplot as plt\n",
    "%matplotlib inline\n",
    "\n",
    "import numpy as np\n",
    "from scipy.misc import imread\n",
    "from scipy import ndimage\n",
    "from scipy import misc\n",
    "\n",
    "from skimage import data\n",
    "from skimage import img_as_float, img_as_ubyte\n",
    "import random"
   ]
  },
  {
   "cell_type": "markdown",
   "metadata": {},
   "source": [
    "The salt and pepper noise in an image is given by the following function:\n",
    "\n",
    "$I_{sp}(h,k) = \\begin{cases} \n",
    "\t\\begin{array}{rcl}\n",
    "\tI(h,k) \\quad \\mbox{if $x < l$}\\\\\n",
    "\ti_{\\min} + y(i_{\\max} - i_{\\min}) \\quad \\mbox{se $x \\geq l$}\n",
    "\t\\end{array}\n",
    "\t\\end{cases}$\n",
    "\n",
    "Implement this function and apply it to the image mamo1.png"
   ]
  },
  {
   "cell_type": "code",
   "execution_count": null,
   "metadata": {},
   "outputs": [],
   "source": []
  },
  {
   "cell_type": "code",
   "execution_count": null,
   "metadata": {},
   "outputs": [],
   "source": [
    "# Create a function that can add different noises to an image. Implement the speckle, poisson and gaussian noise.\n",
    "# Test your code with the mamo1.png image and show the results\n",
    "\n"
   ]
  },
  {
   "cell_type": "code",
   "execution_count": null,
   "metadata": {},
   "outputs": [],
   "source": [
    "# Write a Python program to apply mean filter on an image with salt-and-pepper noise (ct_saltandpepper.png).\n",
    "# Describe the output including the mean filter’s ability to remove the noise.\n",
    "\n",
    "# Can max or min filter be used for removing salt-and-pepper noise? Discuss the results\n",
    "\n",
    "# What will be the best filter to remove salt and pepper noise?\n",
    "\n",
    "# 1\n",
    "\n",
    "\n",
    "\n",
    "\n",
    "# 2\n"
   ]
  },
  {
   "cell_type": "code",
   "execution_count": null,
   "metadata": {
    "collapsed": true
   },
   "outputs": [],
   "source": []
  }
 ],
 "metadata": {
  "kernelspec": {
   "display_name": "Python 3",
   "language": "python",
   "name": "python3"
  },
  "language_info": {
   "codemirror_mode": {
    "name": "ipython",
    "version": 3
   },
   "file_extension": ".py",
   "mimetype": "text/x-python",
   "name": "python",
   "nbconvert_exporter": "python",
   "pygments_lexer": "ipython3",
   "version": "3.7.1"
  }
 },
 "nbformat": 4,
 "nbformat_minor": 2
}
